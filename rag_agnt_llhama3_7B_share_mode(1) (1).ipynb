{
  "cells": [
    {
      "cell_type": "code",
      "execution_count": 147,
      "metadata": {
        "id": "j_qF4uPl3pii",
        "collapsed": true
      },
      "outputs": [],
      "source": [
        "! pip install -qU langchain-nomic langchain_community tiktoken langchainhub chromadb langchain langgraph tavily-python gpt4all firecrawl-py llama-parse nest-asyncio langchain-text-splitters pypdf langchain-groq unstructured"
      ]
    },
    {
      "cell_type": "code",
      "execution_count": 148,
      "metadata": {
        "id": "D_o2422Y3pis"
      },
      "outputs": [],
      "source": [
        "import os\n",
        "from google.colab import userdata\n",
        "\n",
        "os.environ['LANGCHAIN_TRACING_V2'] = 'true'\n",
        "os.environ['LANGCHAIN_ENDPOINT'] = 'https://api.smith.langchain.com'\n",
        "os.environ['LANGCHAIN_API_KEY'] = userdata.get('LANGCHAIN_API_KEY')\n",
        "os.environ['LLAMA_CLOUD_API_KEY'] = userdata.get('LLAMA_CLOUD_API_KEY')\n",
        "os.environ['FIRECRAW_KEY'] = userdata.get('FIRECRAW_KEY')\n",
        "os.environ['GROQ_KEY'] = userdata.get('GROQ_KEY')\n",
        "os.environ['TAVILY_API_KEY'] = userdata.get('TAVILY_API_KEY')"
      ]
    },
    {
      "cell_type": "code",
      "execution_count": 150,
      "metadata": {
        "id": "aUTiJGn53pit"
      },
      "outputs": [],
      "source": [
        "import nest_asyncio\n",
        "nest_asyncio.apply()\n"
      ]
    },
    {
      "cell_type": "code",
      "execution_count": 151,
      "metadata": {
        "id": "yDC0h6dZ3piu"
      },
      "outputs": [],
      "source": [
        "from llama_parse import LlamaParse\n",
        "\n",
        "# Initialize LlamaParse\n",
        "parser = LlamaParse(\n",
        "    api_key=os.getenv('LLAMA_CLOUD_API_KEY'),\n",
        "    result_type=\"markdown\",  # or \"text\"\n",
        "    num_workers=4,\n",
        "    verbose=True,\n",
        "    language=\"en\"\n",
        ")\n"
      ]
    },
    {
      "cell_type": "code",
      "source": [
        "from google.colab import drive\n",
        "drive.mount('/content/drive')"
      ],
      "metadata": {
        "colab": {
          "base_uri": "https://localhost:8080/"
        },
        "id": "mdlfB12KQoiU",
        "outputId": "11d9898c-f874-4dee-9d1e-2375432d17ae"
      },
      "execution_count": 152,
      "outputs": [
        {
          "output_type": "stream",
          "name": "stdout",
          "text": [
            "Drive already mounted at /content/drive; to attempt to forcibly remount, call drive.mount(\"/content/drive\", force_remount=True).\n"
          ]
        }
      ]
    },
    {
      "cell_type": "code",
      "execution_count": 153,
      "metadata": {
        "id": "Ojw5Hlc53piu",
        "colab": {
          "base_uri": "https://localhost:8080/"
        },
        "outputId": "59e70602-b7d1-4bed-9fac-e2a00934c985"
      },
      "outputs": [
        {
          "output_type": "stream",
          "name": "stderr",
          "text": [
            "[nltk_data] Downloading package punkt_tab to /root/nltk_data...\n",
            "[nltk_data]   Package punkt_tab is already up-to-date!\n",
            "[nltk_data] Downloading package averaged_perceptron_tagger_eng to\n",
            "[nltk_data]     /root/nltk_data...\n",
            "[nltk_data]   Package averaged_perceptron_tagger_eng is already up-to-\n",
            "[nltk_data]       date!\n",
            "\n",
            "  0%|          | 0/1 [00:00<?, ?it/s]\u001b[A\n",
            "100%|██████████| 1/1 [00:00<00:00,  7.49it/s]\n"
          ]
        }
      ],
      "source": [
        "from langchain_community.document_loaders import DirectoryLoader\n",
        "\n",
        "directory_path = r\"\"  # <------------ SELECIONE O DIRETORIO\n",
        "\n",
        "#def load_documents_from_directory(directory):\n",
        "#    documents = parser.load_data(directory)\n",
        "#    return documents\n",
        "\n",
        "# Load documents from the specified directory\n",
        "# local_documents = load_documents_from_directory(directory_path)\n",
        "\n",
        "# DOCUMENTAÇÂO PARA document_loaders\n",
        "# https://python.langchain.com/v0.1/docs/modules/data_connection/document_loaders/file_directory/\n",
        "import nltk\n",
        "nltk.download('punkt_tab')\n",
        "nltk.download('averaged_perceptron_tagger_eng')\n",
        "\n",
        "loader = DirectoryLoader(directory_path, glob=\"**/*.txt\", show_progress=True)\n",
        "local_documents = loader.load()"
      ]
    },
    {
      "cell_type": "markdown",
      "metadata": {
        "id": "1xEuq29l3piv"
      },
      "source": [
        "INDEX arquivos"
      ]
    },
    {
      "cell_type": "code",
      "execution_count": 157,
      "metadata": {
        "id": "W2ZkuzJh3piy"
      },
      "outputs": [],
      "source": [
        "from langchain_text_splitters import RecursiveCharacterTextSplitter\n",
        "\n",
        "# Initialize the text splitter\n",
        "text_splitter = RecursiveCharacterTextSplitter.from_tiktoken_encoder(\n",
        "    chunk_size=1000,  # Adjust as needed\n",
        "    chunk_overlap=200  # Overlap for better context\n",
        ")\n",
        "\n",
        "# Split the loaded documents\n",
        "doc_splits = text_splitter.split_documents(local_documents)"
      ]
    },
    {
      "cell_type": "code",
      "execution_count": 158,
      "metadata": {
        "id": "FOQnHFf03piz"
      },
      "outputs": [],
      "source": [
        "from langchain.schema import Document\n",
        "\n",
        "# Filter and clean documents\n",
        "filtered_docs = [\n",
        "    Document(page_content=doc.page_content, metadata=doc.metadata)\n",
        "    for doc in doc_splits if isinstance(doc, Document)\n",
        "]\n"
      ]
    },
    {
      "cell_type": "code",
      "execution_count": 159,
      "metadata": {
        "id": "LI3rHZz63piz"
      },
      "outputs": [],
      "source": [
        "from langchain_community.vectorstores import Chroma\n",
        "from langchain_community.embeddings import GPT4AllEmbeddings\n",
        "\n",
        "# Initialize the vector store\n",
        "vectorstore = Chroma.from_documents(\n",
        "    documents=filtered_docs,\n",
        "    collection_name=\"rag-chroma\",\n",
        "    embedding=GPT4AllEmbeddings(),\n",
        ")\n"
      ]
    },
    {
      "cell_type": "code",
      "execution_count": 160,
      "metadata": {
        "id": "AMnp3z_y3pi0",
        "colab": {
          "base_uri": "https://localhost:8080/"
        },
        "outputId": "eebf00bd-e080-47c7-c611-ed99a7689d38"
      },
      "outputs": [
        {
          "output_type": "stream",
          "name": "stdout",
          "text": [
            "Result 1:\n",
            "RISC-V\n",
            "--------------------------------------------------------------------------------\n",
            "Result 2:\n",
            "051. **[^](#cite_ref-54 \"Jump up\")**RISC-V Platform Horizontal Subcommittee (December 2021). [\"RISC-V Platform Specification\"](https://github.com/riscv/riscv-platform-specs/blob/main/riscv-platform-spec.pdf)(PDF). Version 0.3-draft.\n",
            "--------------------------------------------------------------------------------\n",
            "Result 3:\n",
            "- [\"RISC-V Assembly Language Programming\"](https://github.com/johnwinans/rvalp). _GitHub_. 8 November 2019.\n",
            "- Waterman, Andrew (January 2016). [\"Design of the RISC-V Instruction Set Architecture\"](https://www2.eecs.berkeley.edu/Pubs/TechRpts/2016/EECS-2016-1.pdf)(PDF). _EECS Department, University of California, Berkeley_. EECS-2016-1.\n",
            "--------------------------------------------------------------------------------\n",
            "Result 4:\n",
            "RISC-V was begun with a goal to make a practical ISA that was open-sourced, usable academically, and deployable in any hardware or software design without royalties.[\\[2\\]](#cite_note-isa20191213-2): 1 [\\[20\\]](#cite_note-isasbfree-22) Also, justifying rationales for each design decision of the project are explained, at least in broad terms. The RISC-V authors are academics who have substantial experience in computer design, and the RISC-V ISA is a direct development from a series of academic computer-design projects, especially [Berkeley RISC](/wiki/Berkeley_RISC \"Berkeley RISC\"). RISC-V was originated in part to aid all such projects.[\\[2\\]](#cite_note-isa20191213-2): 1 [\\[20\\]](#cite_note-isasbfree-22)\n",
            "--------------------------------------------------------------------------------\n"
          ]
        }
      ],
      "source": [
        "# Initialize the retriever\n",
        "retriever = vectorstore.as_retriever()\n",
        "\n",
        "# Example query\n",
        "query = \"Explain the RISC-V architecture\"\n",
        "\n",
        "# Retrieve relevant documents\n",
        "results = retriever.get_relevant_documents(query)\n",
        "\n",
        "# Print the results\n",
        "for idx, result in enumerate(results, start=1):\n",
        "    print(f\"Result {idx}:\\n{result.page_content}\\n{'-'*80}\")"
      ]
    },
    {
      "cell_type": "code",
      "execution_count": 164,
      "metadata": {
        "id": "O2MVMmYd3pi0"
      },
      "outputs": [],
      "source": [
        "from langchain.text_splitter import RecursiveCharacterTextSplitter\n",
        "from langchain_community.vectorstores import Chroma\n",
        "from langchain_community.embeddings import GPT4AllEmbeddings\n",
        "from langchain.docstore.document import Document\n",
        "from langchain_community.document_loaders import DirectoryLoader\n",
        "from langchain_community.document_loaders import FireCrawlLoader\n",
        "\n",
        "# Diretório contendo os documentos locais\n",
        "directory_path = r\"\" # <--------------- SELECIONAR O DIRETORIO\n",
        "\n",
        "# Função para carregar os documentos do diretório\n",
        "def load_documents_from_directory(directory):\n",
        "    loader = DirectoryLoader(directory)\n",
        "    documents = loader.load()\n",
        "    return documents\n",
        "\n",
        "# Carregar os documentos do diretório\n",
        "local_documents = load_documents_from_directory(directory_path)\n",
        "\n",
        "# URLs de onde os documentos são extraídos via scraping\n",
        "urls = [\n",
        "    #\"https://riscv-programming.org/book/riscv-book.html\"\n",
        "    \"https://en.wikipedia.org/wiki/RISC-V\" # < ----------------- MODIFICAR\n",
        "]\n",
        "\n",
        "# Função para carregar os documentos das URLs\n",
        "docs_from_urls = [FireCrawlLoader(api_key=os.getenv('FIRECRAW_KEY'), url=url, mode=\"scrape\").load() for url in urls]\n",
        "\n",
        "# Unir documentos locais e documentos das URLs\n",
        "all_docs = local_documents + [item for sublist in docs_from_urls for item in sublist]\n",
        "\n",
        "# Split (divisão) dos documentos\n",
        "text_splitter = RecursiveCharacterTextSplitter.from_tiktoken_encoder(\n",
        "    chunk_size=250, chunk_overlap=0\n",
        ")\n",
        "\n",
        "doc_splits = text_splitter.split_documents(all_docs)\n",
        "\n",
        "# Filtrar metadata e garantir formatação adequada\n",
        "filtered_docs = []\n",
        "for doc in doc_splits:\n",
        "    if isinstance(doc, Document) and hasattr(doc, 'metadata'):\n",
        "        clean_metadata = {k: v for k, v in doc.metadata.items() if isinstance(v, (str, int, float, bool))}\n",
        "        filtered_docs.append(Document(page_content=doc.page_content, metadata=clean_metadata))\n",
        "\n",
        "# Adicionar ao vectorDB\n",
        "vectorstore = Chroma.from_documents(\n",
        "    documents=filtered_docs,\n",
        "    collection_name=\"rag-chroma\",\n",
        "    embedding=GPT4AllEmbeddings(),\n",
        ")\n",
        "\n",
        "# Definir o retriever a partir do vectorstore\n",
        "retriever = vectorstore.as_retriever()\n"
      ]
    },
    {
      "cell_type": "markdown",
      "metadata": {
        "id": "8MLXtyEj3pi1"
      },
      "source": [
        "GRADE DOCUMENTS"
      ]
    },
    {
      "cell_type": "code",
      "source": [
        "from langchain_groq import ChatGroq\n",
        "from langchain_community.chat_models import ChatOllama\n",
        "\n",
        "# LLM\n",
        "#llm = ChatOllama(model=local_llm, format=\"json\", temperature=0)\n",
        "# Aqui eu mudei para usar uma LLM de uma api externa utilizando o GROQ\n",
        "llm = ChatGroq(temperature=0, groq_api_key=os.getenv('GROQ_KEY'), model_name=\"llama-3.1-70b-versatile\")\n"
      ],
      "metadata": {
        "id": "hEKlQaRHpXau"
      },
      "execution_count": 165,
      "outputs": []
    },
    {
      "cell_type": "code",
      "execution_count": 168,
      "metadata": {
        "id": "kgdku9QA3pi1",
        "colab": {
          "base_uri": "https://localhost:8080/"
        },
        "outputId": "a719e370-b3a9-470c-ec8f-e921e8a669be"
      },
      "outputs": [
        {
          "output_type": "stream",
          "name": "stdout",
          "text": [
            "{'score': 'yes'}\n"
          ]
        }
      ],
      "source": [
        "# Retrival Grader\n",
        "from langchain_groq import ChatGroq\n",
        "from langchain_community.chat_models import ChatOllama\n",
        "from langchain.prompts import PromptTemplate\n",
        "from langchain_core.output_parsers import JsonOutputParser\n",
        "\n",
        "# Criação do template de prompt para avaliação da relevância de documentos\n",
        "prompt = PromptTemplate(\n",
        "    template=\"\"\"\n",
        "    <|begin_of_text|><|start_header_id|>system<|end_header_id|> You are a grader assessing relevance\n",
        "    of a retrieved document to a user question. If the document contains keywords related to the user question,\n",
        "    grade it as relevant. It does not need to be a stringent test. The goal is to filter out erroneous retrievals.\n",
        "    Give a binary score 'yes' or 'no' to indicate whether the document is relevant to the question.\n",
        "    Provide the binary score as a JSON with a single key 'score' and no preamble or explanation.\n",
        "    <|eot_id|><|start_header_id|>user<|end_header_id|>\n",
        "    Here is the retrieved document:\n",
        "    \\n\\n {document} \\n\\n\n",
        "    Here is the user question: {question} \\n\n",
        "    <|eot_id|><|start_header_id|>assistant<|end_header_id|>\n",
        "    \"\"\",\n",
        "    input_variables=[\"question\", \"document\"]\n",
        ")\n",
        "\n",
        "# Combina o prompt, o modelo de linguagem e o parser para output JSON\n",
        "retrieval_grader = prompt | llm | JsonOutputParser()\n",
        "\n",
        "# Exemplo de pergunta do usuário\n",
        "question = \"Qual é o método mais eficiente para implementar em RISC-V?\"\n",
        "\n",
        "# Recupera documentos com base na pergunta\n",
        "docs = retriever.invoke(question)\n",
        "\n",
        "# Pega o conteúdo do segundo documento recuperado\n",
        "doc_txt = docs[1].page_content\n",
        "\n",
        "# Avalia a relevância do documento e imprime o resultado\n",
        "print(retrieval_grader.invoke({\"question\": question, \"document\": doc_txt}))\n"
      ]
    },
    {
      "cell_type": "code",
      "source": [
        "doc_txt"
      ],
      "metadata": {
        "colab": {
          "base_uri": "https://localhost:8080/",
          "height": 88
        },
        "id": "heku8eJVm_Mi",
        "outputId": "59c3478c-68f7-4638-9bf5-5210730a4784"
      },
      "execution_count": 166,
      "outputs": [
        {
          "output_type": "execute_result",
          "data": {
            "text/plain": [
              "'Logo do conjunto de instruções\\n\\nRISC-V\\n\\nPlaca de desenvolvimento que\\n\\nintegra RISC-V\\n\\nRISC-V\\n\\nRISC-V é um conjunto de instruções (ISA) baseado em princípios\\n\\nRISC  (acrônimo  de  Reduced  Instruction  Set  Computing,  em\\n\\nportuguês, “Computação de conjunto de instruções reduzidas”).\\n\\nRISC-V  é  livre  para  ser  usado  para  qualquer  finalidade,\\n\\npermitindo a qualquer pessoa ou empresa projetar e vender chips e\\n\\nsoftware RISC-V sem precisar pagar royalties.\\n\\nEmbora não seja o primeiro conjunto de instruções livre, ele é\\n\\nimportante  porque  foi  projetado  com  foco  para  dispositivos'"
            ],
            "application/vnd.google.colaboratory.intrinsic+json": {
              "type": "string"
            }
          },
          "metadata": {},
          "execution_count": 166
        }
      ]
    },
    {
      "cell_type": "markdown",
      "metadata": {
        "id": "mtowOBrj3pi2"
      },
      "source": [
        "Generate Answer"
      ]
    },
    {
      "cell_type": "code",
      "execution_count": 167,
      "metadata": {
        "id": "DWu8RUhE3pi2",
        "colab": {
          "base_uri": "https://localhost:8080/"
        },
        "outputId": "96561fa0-be4d-4ad4-dd9e-1bd58e392f01"
      },
      "outputs": [
        {
          "output_type": "stream",
          "name": "stdout",
          "text": [
            "O método mais eficiente para implementar em RISC-V não é especificado no contexto fornecido. No entanto, o RISC-V foi projetado para implementações de alto desempenho e baixo consumo de energia.\n"
          ]
        }
      ],
      "source": [
        "# Generate answer\n",
        "from langchain.prompts import PromptTemplate\n",
        "from langchain import hub\n",
        "from langchain_core.output_parsers import StrOutputParser\n",
        "\n",
        "# Prompt\n",
        "prompt = PromptTemplate(\n",
        "    template=\"\"\"\n",
        "    <|begin_of_text|><|start_header_id|>system<|end_header_id|> You are an assistant for question-answering tasks.\n",
        "    Use the following pieces of retrieved context to answer the question. If you don't know the answer, just say that you don't know.\n",
        "    Use three sentences maximum and keep the answer concise <|eot_id|><|start_header_id|>user<|end_header_id|>\n",
        "    Question: {question}\n",
        "    Context: {context}\n",
        "    Answer: <|eot_id|><|start_header_id|>assistant<|end_header_id|>\n",
        "    \"\"\",\n",
        "    input_variables=[\"question\", \"context\"]\n",
        ")\n",
        "\n",
        "# Post-processing\n",
        "def format_docs(docs):\n",
        "    return \"\\n\\n\".join(doc.page_content for doc in docs)\n",
        "# Chain\n",
        "rag_chain = prompt | llm | StrOutputParser()\n",
        "\n",
        "# Run\n",
        "question = \"Qual é o método mais eficiente para implementar em RISC-V?\"\n",
        "docs = retriever.invoke(question)\n",
        "generation = rag_chain.invoke({\"context\": docs, \"question\": question})\n",
        "print(generation)\n"
      ]
    },
    {
      "cell_type": "markdown",
      "metadata": {
        "id": "uV39Xs_j3pi2"
      },
      "source": [
        "Pesquisa tavly"
      ]
    },
    {
      "cell_type": "code",
      "execution_count": 169,
      "metadata": {
        "id": "uLY8LpDQ3pi2"
      },
      "outputs": [],
      "source": [
        "### Search\n",
        "from langchain_community.tools.tavily_search import TavilySearchResults\n",
        "web_search_tool = TavilySearchResults(k=3)\n"
      ]
    },
    {
      "cell_type": "markdown",
      "metadata": {
        "id": "p3Uv6eYH3pi3"
      },
      "source": [
        "### Hallucination Grader"
      ]
    },
    {
      "cell_type": "code",
      "execution_count": 170,
      "metadata": {
        "id": "JqyzXdi43pi3",
        "colab": {
          "base_uri": "https://localhost:8080/"
        },
        "outputId": "ab7fb2d5-0bb5-4690-e196-f56b84bfe3ba"
      },
      "outputs": [
        {
          "output_type": "execute_result",
          "data": {
            "text/plain": [
              "{'score': 'yes'}"
            ]
          },
          "metadata": {},
          "execution_count": 170
        }
      ],
      "source": [
        "# Prompt\n",
        "prompt = PromptTemplate(\n",
        "    template=\"\"\"\n",
        "    <|begin_of_text|><|start_header_id|>system<|end_header_id|> You are a grader assessing whether\n",
        "    an answer is grounded in / supported by a set of facts. Give a binary score 'yes' or 'no' score to indicate\n",
        "    whether the answer is grounded in / supported by a set of facts. Provide the binary score as a JSON with a\n",
        "    single key 'score' and no preamble or explanation. <|eot_id|><|start_header_id|>user<|end_header_id|>\n",
        "    Here are the facts:\n",
        "    \\n -------- \\n\n",
        "    {documents}\n",
        "    \\n -------- \\n\n",
        "    Here is the answer: {generation} <|eot_id|><|start_header_id|>assistant<|end_header_id|>\"\"\",\n",
        "    input_variables=[\"generation\", \"documents\"]\n",
        ")\n",
        "\n",
        "# Criação do Hallucination Grader\n",
        "hallucination_grader = prompt | llm | JsonOutputParser()\n",
        "\n",
        "# Execução do Hallucination Grader\n",
        "hallucination_grader.invoke({\"documents\": docs, \"generation\": generation})\n"
      ]
    },
    {
      "cell_type": "markdown",
      "metadata": {
        "id": "bBxs66vu3pi3"
      },
      "source": [
        "### Answer Grader"
      ]
    },
    {
      "cell_type": "code",
      "execution_count": 171,
      "metadata": {
        "id": "yyV9W7kq3pi3",
        "colab": {
          "base_uri": "https://localhost:8080/"
        },
        "outputId": "a9de52b2-0110-4afa-846c-d0b27a63b3fc"
      },
      "outputs": [
        {
          "output_type": "execute_result",
          "data": {
            "text/plain": [
              "{'score': 'no'}"
            ]
          },
          "metadata": {},
          "execution_count": 171
        }
      ],
      "source": [
        "# Prompt\n",
        "prompt = PromptTemplate(\n",
        "    template=\"\"\"\n",
        "    <|begin_of_text|><|start_header_id|>system<|end_header_id|> You are a grader assessing whether an\n",
        "    answer is useful to resolve a question. Give a binary score 'yes' or 'no' to indicate whether the answer is\n",
        "    useful to resolve a question. Provide the binary score as a JSON with a single key 'score' and no preamble or explanation.\n",
        "    <|eot_id|><|start_header_id|>user<|end_header_id|> Here is the answer:\n",
        "    \\n -------- \\n\n",
        "    {generation}\n",
        "    \\n -------- \\n\n",
        "    Here is the question: {question} <|eot_id|><|start_header_id|>assistant<|end_header_id|>\"\"\",\n",
        "    input_variables=[\"generation\", \"question\"]\n",
        ")\n",
        "\n",
        "# Criação do Answer Grader\n",
        "answer_grader = prompt | llm | JsonOutputParser()\n",
        "\n",
        "# Execução do Answer Grader\n",
        "answer_grader.invoke({\"question\": question, \"generation\": generation})"
      ]
    },
    {
      "cell_type": "markdown",
      "metadata": {
        "id": "FZ4bVw3k3pi3"
      },
      "source": [
        "Lang Graph - Setup states & nodes"
      ]
    },
    {
      "cell_type": "code",
      "execution_count": 172,
      "metadata": {
        "id": "GlALa6K93pi4"
      },
      "outputs": [],
      "source": [
        "from typing_extensions import TypedDict\n",
        "from typing import List\n",
        "from langchain.schema import Document\n",
        "\n",
        "### State\n",
        "\n",
        "class GraphState(TypedDict):\n",
        "    \"\"\"\n",
        "    Represents the state of our graph.\n",
        "\n",
        "    Attributes:\n",
        "        question: question\n",
        "        generation: LLM generation\n",
        "        web_search: whether to add search\n",
        "        documents: list of documents\n",
        "    \"\"\"\n",
        "    question: str\n",
        "    generation: str\n",
        "    web_search: str\n",
        "    documents: List[str]\n",
        "\n",
        "### Nodes\n",
        "def retrieve(state):\n",
        "    \"\"\"\n",
        "    Retrieve documents from vectorstore\n",
        "\n",
        "    Args:\n",
        "        state (dict): The current graph state\n",
        "\n",
        "    Returns:\n",
        "        state (dict): New key added to state, documents, that contains retrieved documents\n",
        "    \"\"\"\n",
        "    print(\"----RETRIEVE----\")\n",
        "    question = state[\"question\"]\n",
        "\n",
        "    # Retrieval\n",
        "    documents = retriever.invoke(question)\n",
        "    return {\"documents\": documents, \"question\": question}\n",
        "\n",
        "def grade_documents(state):\n",
        "    \"\"\"\n",
        "    Determines whether the retrieved documents are relevant to the question.\n",
        "    If any document is not relevant, we will set a flag to run web search.\n",
        "\n",
        "    Args:\n",
        "        state (dict): The current graph state\n",
        "\n",
        "    Returns:\n",
        "        state (dict): Filtered out irrelevant documents and updated web_search state\n",
        "    \"\"\"\n",
        "\n",
        "    print(\"----CHECK DOCUMENT RELEVANCE TO QUESTION----\")\n",
        "    question = state[\"question\"]\n",
        "    documents = state[\"documents\"]\n",
        "\n",
        "    # Score each document\n",
        "    filtered_docs = []\n",
        "    web_search = \"No\"\n",
        "\n",
        "    for d in documents:\n",
        "        score = retrieval_grader.invoke({\"question\": question, \"document\": d.page_content})\n",
        "        grade = score[\"score\"]\n",
        "\n",
        "        # Document relevant\n",
        "        if grade.lower() == \"yes\":\n",
        "            print(\"----GRADE: DOCUMENT RELEVANT----\")\n",
        "            filtered_docs.append(d)\n",
        "\n",
        "        # Document not relevant\n",
        "        else:\n",
        "            print(\"----GRADE: DOCUMENT NOT RELEVANT----\")\n",
        "            # We do not include the document in filtered_docs\n",
        "\n",
        "    # Update state with the filtered documents\n",
        "    if len(filtered_docs) == 0:\n",
        "        web_search = \"Yes\"  # If no document is relevant, set flag to perform web search\n",
        "\n",
        "    return {\"filtered_docs\": filtered_docs, \"web_search\": web_search}\n",
        "\n",
        "def generate(state):\n",
        "    \"\"\"\n",
        "    Generate answer using RAG on retrieved documents\n",
        "\n",
        "    Args:\n",
        "        state (dict): The current graph state\n",
        "\n",
        "    Returns:\n",
        "        state (dict): New key added to state, generation, that contains LLM generation\n",
        "    \"\"\"\n",
        "\n",
        "    print(\"----GENERATE----\")\n",
        "    question = state[\"question\"]\n",
        "    documents = state[\"documents\"]\n",
        "\n",
        "    # RAG generation\n",
        "    generation = rag_chain.invoke({\"context\": documents, \"question\": question})\n",
        "    return {\"documents\": documents, \"question\": question, \"generation\": generation}\n",
        "\n",
        "def web_search(state):\n",
        "    \"\"\"\n",
        "    Web search based on the question\n",
        "\n",
        "    Args:\n",
        "        state (dict): The current graph state\n",
        "\n",
        "    Returns:\n",
        "        state (dict): Appended web results to documents\n",
        "    \"\"\"\n",
        "\n",
        "    print(\"----WEB SEARCH----\")\n",
        "    question = state[\"question\"]\n",
        "    documents = state[\"documents\"]\n",
        "\n",
        "    # Web search\n",
        "    docs = web_search_tool.invoke({\"query\": question})\n",
        "    web_results = \"\\n\\n\".join([d[\"content\"] for d in docs])\n",
        "    web_results = Document(page_content=web_results)\n",
        "\n",
        "    if documents is not None:\n",
        "        documents.append(web_results)\n",
        "    else:\n",
        "        documents = [web_results]\n",
        "\n",
        "    return {\"documents\": documents, \"question\": question}\n",
        "\n",
        "\n",
        "def decide_to_generate(state):\n",
        "    \"\"\"\n",
        "    Determines whether to generate an answer, or add web search\n",
        "\n",
        "    Args:\n",
        "        state (dict): The current graph state\n",
        "\n",
        "    Returns:\n",
        "        str: Binary decision for next node to call\n",
        "    \"\"\"\n",
        "\n",
        "    print(\"----ASSESS GRADED DOCUMENTS----\")\n",
        "    question = state[\"question\"]\n",
        "    web_search = state[\"web_search\"]\n",
        "    filtered_documents = state[\"documents\"]\n",
        "\n",
        "    if web_search == \"Yes\":\n",
        "        # Todos os documentos foram filtrados como irrelevantes\n",
        "        # Vamos gerar uma nova consulta\n",
        "        print(\"----DECISION: ALL DOCUMENTS ARE NOT RELEVANT TO QUESTION, INCLUDE WEB SEARCH----\")\n",
        "        return \"websearch\"\n",
        "\n",
        "    else:\n",
        "        # Temos documentos relevantes, então geramos a resposta\n",
        "        print(\"----DECISION: WE HAVE RELEVANT DOCUMENTS, SO GENERATE ANSWER----\")\n",
        "        return \"generate\"\n",
        "\n",
        "### Conditional edge\n",
        "\n",
        "def grade_generation_v_documents_and_question(state):\n",
        "    \"\"\"\n",
        "    Determines whether the generation is grounded in the document and answers question.\n",
        "\n",
        "    Args:\n",
        "        state (dict): The current graph state\n",
        "\n",
        "    Returns:\n",
        "        str: Decision for next node to call\n",
        "    \"\"\"\n",
        "    print(\"----CHECK HALLUCINATIONS----\")\n",
        "    question = state[\"question\"]\n",
        "    documents = state[\"documents\"]\n",
        "    generation = state[\"generation\"]\n",
        "\n",
        "    score = hallucination_grader.invoke({\"documents\": documents, \"generation\": generation})\n",
        "    grade = score[\"score\"]\n",
        "\n",
        "    # Check hallucination\n",
        "    if grade == \"yes\":\n",
        "        print(\"----DECISION: GENERATION IS GROUNDED IN DOCUMENTS----\")\n",
        "        # Check question-answering\n",
        "        print(\"----GRADE GENERATION vs QUESTION----\")\n",
        "        score = answer_grader.invoke({\"question\": question, \"generation\": generation})\n",
        "        grade = score[\"score\"]\n",
        "\n",
        "        if grade == \"yes\":\n",
        "            print(\"----DECISION: GENERATION ADDRESSES QUESTION----\")\n",
        "            return \"useful\"\n",
        "        else:\n",
        "            print(\"----DECISION: GENERATION DOES NOT ADDRESS QUESTION----\")\n",
        "            return \"not useful\"\n",
        "    else:\n",
        "        print(\"----DECISION: GENERATION IS NOT GROUNDED IN DOCUMENTS, RE-TRY----\")\n",
        "        return \"not supported\""
      ]
    },
    {
      "cell_type": "code",
      "source": [
        "from langgraph.graph import END, StateGraph\n",
        "workflow = StateGraph(GraphState)\n",
        "\n",
        "# Define the nodes\n",
        "workflow.add_node(\"websearch\", web_search)  # web search\n",
        "workflow.add_node(\"retrieve\", retrieve)  # retrieve\n",
        "workflow.add_node(\"grade_documents\", grade_documents)  # grade documents\n",
        "workflow.add_node(\"generate\", generate)  # gener"
      ],
      "metadata": {
        "colab": {
          "base_uri": "https://localhost:8080/"
        },
        "id": "NY-lashZyjUb",
        "outputId": "ddbe6517-3936-4f42-da40-02892ef9b375"
      },
      "execution_count": 173,
      "outputs": [
        {
          "output_type": "execute_result",
          "data": {
            "text/plain": [
              "<langgraph.graph.state.StateGraph at 0x7fdd5036b3d0>"
            ]
          },
          "metadata": {},
          "execution_count": 173
        }
      ]
    },
    {
      "cell_type": "code",
      "source": [
        "workflow.set_entry_point(\"retrieve\")\n",
        "workflow.add_edge(\"retrieve\", \"grade_documents\")\n",
        "workflow.add_conditional_edges(\n",
        "    \"grade_documents\",\n",
        "    decide_to_generate,\n",
        "    {\n",
        "        \"websearch\": \"websearch\",\n",
        "        \"generate\": \"generate\",\n",
        "    },\n",
        ")\n",
        "workflow.add_edge(\"websearch\", \"generate\")\n",
        "workflow.add_conditional_edges(\n",
        "    \"generate\",\n",
        "    grade_generation_v_documents_and_question,\n",
        "    {\n",
        "        \"not supported\": \"generate\",   #loop2\n",
        "        \"useful\": END,\n",
        "        \"not useful\": \"websearch\",  # loop3\n",
        "    },\n",
        ")"
      ],
      "metadata": {
        "colab": {
          "base_uri": "https://localhost:8080/"
        },
        "id": "RKEYxH34q41z",
        "outputId": "7a7bb1ed-56ac-4c9e-955e-c2977687cce0"
      },
      "execution_count": 174,
      "outputs": [
        {
          "output_type": "execute_result",
          "data": {
            "text/plain": [
              "<langgraph.graph.state.StateGraph at 0x7fdd5036b3d0>"
            ]
          },
          "metadata": {},
          "execution_count": 174
        }
      ]
    },
    {
      "cell_type": "markdown",
      "metadata": {
        "id": "oWuOSuex3pi4"
      },
      "source": [
        "# Build graph\n",
        "workflow.set_entry_point(\"retrieve\")\n",
        "workflow.add_edge(\"retrieve\", \"grade_documents\")\n",
        "workflow.add_conditional_edges(\n",
        "    \"grade_documents\",\n",
        "    decide_to_generate,\n",
        "    {\n",
        "        \"websearch\": \"websearch\",\n",
        "        \"generate\": \"generate\",\n",
        "    },\n",
        ")\n",
        "\n",
        "workflow.add_edge(\"websearch\", \"generate\")\n",
        "workflow.add_conditional_edges(\n",
        "    \"generate\",\n",
        "    grade_generation_v_documents_and_question,\n",
        "    {\n",
        "        \"not supported\": \"generate\",\n",
        "        \"useful\": END,\n",
        "        \"not useful\": \"websearch\",\n",
        "    },\n",
        ")\n"
      ]
    },
    {
      "cell_type": "code",
      "source": [
        "app = workflow.compile()"
      ],
      "metadata": {
        "id": "LNnNOegRyrVC"
      },
      "execution_count": 175,
      "outputs": []
    },
    {
      "cell_type": "code",
      "source": [
        "# Exibir o grafo como uma imagem gerada (Mermaid diagram)\n",
        "from IPython.display import Image\n",
        "\n",
        "# Gera a imagem do grafo usando Mermaid\n",
        "display(Image(app.get_graph(xray=True).draw_mermaid_png()))\n"
      ],
      "metadata": {
        "colab": {
          "base_uri": "https://localhost:8080/",
          "height": 670
        },
        "id": "NQ9Qn4Fs6bQQ",
        "outputId": "03f18db0-13ba-4ad7-9700-90fc5687e4ba"
      },
      "execution_count": 180,
      "outputs": [
        {
          "output_type": "display_data",
          "data": {
            "image/jpeg": "[encoded data removed]",
            "text/plain": [
              "<IPython.core.display.Image object>"
            ]
          },
          "metadata": {}
        }
      ]
    },
    {
      "cell_type": "code",
      "execution_count": 176,
      "metadata": {
        "id": "TeMSJalm3pi4",
        "colab": {
          "base_uri": "https://localhost:8080/"
        },
        "outputId": "15268af3-f91f-4128-8bb9-56915f7d7423"
      },
      "outputs": [
        {
          "output_type": "stream",
          "name": "stdout",
          "text": [
            "----RETRIEVE----\n",
            "'Finished running: retrieve:'\n",
            "----CHECK DOCUMENT RELEVANCE TO QUESTION----\n",
            "----GRADE: DOCUMENT RELEVANT----\n",
            "----GRADE: DOCUMENT RELEVANT----\n",
            "----GRADE: DOCUMENT RELEVANT----\n",
            "----GRADE: DOCUMENT RELEVANT----\n",
            "----ASSESS GRADED DOCUMENTS----\n",
            "----DECISION: WE HAVE RELEVANT DOCUMENTS, SO GENERATE ANSWER----\n",
            "'Finished running: grade_documents:'\n",
            "----GENERATE----\n",
            "----CHECK HALLUCINATIONS----\n",
            "----DECISION: GENERATION IS GROUNDED IN DOCUMENTS----\n",
            "----GRADE GENERATION vs QUESTION----\n",
            "----DECISION: GENERATION DOES NOT ADDRESS QUESTION----\n",
            "'Finished running: generate:'\n",
            "----WEB SEARCH----\n",
            "'Finished running: websearch:'\n",
            "----GENERATE----\n",
            "----CHECK HALLUCINATIONS----\n",
            "----DECISION: GENERATION IS GROUNDED IN DOCUMENTS----\n",
            "----GRADE GENERATION vs QUESTION----\n",
            "----DECISION: GENERATION ADDRESSES QUESTION----\n",
            "'Finished running: generate:'\n",
            "O método mais eficiente para implementar em RISC-V é baseado em uma abordagem simplificada, focada em um conjunto reduzido de instruções, o que a torna mais fácil de entender, implementar e otimizar. O RISC-V é projetado para implementações de alto desempenho e baixo consumo de energia.\n"
          ]
        }
      ],
      "source": [
        "# Compile\n",
        "app = workflow.compile()\n",
        "\n",
        "# Test\n",
        "from pprint import pprint\n",
        "inputs = {\"question\": \"Qual é o método mais eficiente para implementar em RISC-V?\"}\n",
        "for output in app.stream(inputs):\n",
        "    for key, value in output.items():\n",
        "        pprint(f\"Finished running: {key}:\")\n",
        "\n",
        "print(value[\"generation\"])\n"
      ]
    }
  ],
  "metadata": {
    "kernelspec": {
      "display_name": "Python 3 (ipykernel)",
      "language": "python",
      "name": "python3"
    },
    "language_info": {
      "codemirror_mode": {
        "name": "ipython",
        "version": 3
      },
      "file_extension": ".py",
      "mimetype": "text/x-python",
      "name": "python",
      "nbconvert_exporter": "python",
      "pygments_lexer": "ipython3",
      "version": "3.12.5"
    },
    "colab": {
      "provenance": []
    }
  },
  "nbformat": 4,
  "nbformat_minor": 0
}